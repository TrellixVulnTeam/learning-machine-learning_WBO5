{
 "cells": [
  {
   "cell_type": "code",
   "execution_count": 146,
   "metadata": {},
   "outputs": [
    {
     "name": "stdout",
     "output_type": "stream",
     "text": [
      "0.04007445275783539\n",
      "9.189378033624962e-06\n",
      "0.9946473240852356\n",
      "1.0\n",
      "0.4968879222869873\n",
      "0.6540769934654236\n",
      "\n",
      "-------------------------------\n",
      "\n",
      "0.04007445275783539\n",
      "1.0\n",
      "0.4968879222869873\n",
      "9.189378033624962e-06\n",
      "juulpods\n",
      "flash drive\n",
      "juulpods\n",
      "juulpods\n"
     ]
    }
   ],
   "source": [
    "import tensorflow as tf\n",
    "import cv2\n",
    "\n",
    "CATEGORIES = [\"juulpods\", \"flash drive\"]\n",
    "\n",
    "def prepare(filepath):\n",
    "    IMG_SIZE = 100\n",
    "    img_array = cv2.imread(filepath, cv2.IMREAD_GRAYSCALE)\n",
    "    img_array = img_array/225\n",
    "    new_array = cv2.resize(img_array, (IMG_SIZE, IMG_SIZE))\n",
    "    return new_array.reshape(-1, IMG_SIZE, IMG_SIZE, 1)\n",
    "\n",
    "model = tf.keras.models.load_model('64x3-CNN.model')\n",
    "\n",
    "prediction = model.predict([prepare('test_images/Juul.jpg')])\n",
    "prediction1 = model.predict([prepare('test_images/Juul2.jpg')])\n",
    "prediction2 = model.predict([prepare('test_images/USB.jpg')])\n",
    "prediction3 = model.predict([prepare('test_images/USB2.jpg')])\n",
    "prediction4 = model.predict([prepare('test_images/USB3.jpg')])\n",
    "prediction5 = model.predict([prepare('test_images/trevorjuul.jpg')])\n",
    "\n",
    "print(float(prediction))\n",
    "print(float(prediction1))\n",
    "print(float(prediction2))\n",
    "print(float(prediction3))\n",
    "print(float(prediction4))\n",
    "print(float(prediction5))\n",
    "\n",
    "print(\"\\n-------------------------------\\n\")\n",
    "\n",
    "prediction1 = model.predict([prepare('test_images/Juul.jpg')])\n",
    "prediction3 = model.predict([prepare('test_images/USB2.jpg')])\n",
    "prediction4 = model.predict([prepare('test_images/USB3.jpg')])\n",
    "prediction5 = model.predict([prepare('test_images/Juul2.jpg')])\n",
    "\n",
    "\n",
    "print(float(prediction1))\n",
    "print(float(prediction3))\n",
    "print(float(prediction4))\n",
    "print(float(prediction5))\n",
    "print(CATEGORIES[int(prediction1[0][0])])\n",
    "print(CATEGORIES[int(prediction3[0][0])])\n",
    "print(CATEGORIES[int(prediction4[0][0])])\n",
    "print(CATEGORIES[int(prediction5[0][0])])"
   ]
  },
  {
   "cell_type": "code",
   "execution_count": 129,
   "metadata": {},
   "outputs": [
    {
     "name": "stdout",
     "output_type": "stream",
     "text": [
      "[[0.04007445]]\n",
      "[[0.9946473]]\n",
      "[[1.]]\n",
      "[[0.49688792]]\n",
      "[[9.189378e-06]]\n"
     ]
    }
   ],
   "source": [
    "prediction1 = model.predict([prepare('test_images/Juul.jpg')])\n",
    "prediction2 = model.predict([prepare('test_images/USB.jpg')])\n",
    "prediction3 = model.predict([prepare('test_images/USB2.jpg')])\n",
    "prediction4 = model.predict([prepare('test_images/USB3.jpg')])\n",
    "prediction5 = model.predict([prepare('test_images/Juul2.jpg')])\n",
    "\n",
    "\n",
    "print(prediction1)\n",
    "print(prediction2)\n",
    "print(prediction3)\n",
    "print(prediction4)\n",
    "print(prediction5)"
   ]
  },
  {
   "cell_type": "code",
   "execution_count": 130,
   "metadata": {},
   "outputs": [
    {
     "name": "stdout",
     "output_type": "stream",
     "text": [
      "[[0.9999902]]\n"
     ]
    }
   ],
   "source": [
    "prediction5 = model.predict([prepare('test_images/trevorjuul2.jpg')])\n",
    "\n",
    "print(prediction5)"
   ]
  },
  {
   "cell_type": "code",
   "execution_count": 131,
   "metadata": {},
   "outputs": [
    {
     "name": "stdout",
     "output_type": "stream",
     "text": [
      "[[2.7218404e-05]]\n"
     ]
    }
   ],
   "source": [
    "prediction = model.predict([prepare('test_images/jul1028.jpg')])\n",
    "\n",
    "print(prediction)"
   ]
  },
  {
   "cell_type": "code",
   "execution_count": 132,
   "metadata": {},
   "outputs": [
    {
     "name": "stdout",
     "output_type": "stream",
     "text": [
      "[[0.9946473]]\n"
     ]
    }
   ],
   "source": [
    "prediction = model.predict([prepare('test_images/USB.jpg')])\n",
    "\n",
    "print(prediction)"
   ]
  },
  {
   "cell_type": "code",
   "execution_count": 133,
   "metadata": {},
   "outputs": [
    {
     "name": "stdout",
     "output_type": "stream",
     "text": [
      "[[0.99996245]]\n"
     ]
    }
   ],
   "source": [
    "prediction = model.predict([prepare('test_images/testjuul.jpg')])\n",
    "\n",
    "print(prediction)"
   ]
  },
  {
   "cell_type": "code",
   "execution_count": 134,
   "metadata": {},
   "outputs": [
    {
     "name": "stdout",
     "output_type": "stream",
     "text": [
      "[[1.]]\n"
     ]
    }
   ],
   "source": [
    "prediction = model.predict([prepare('test_images/USB2.jpg')])\n",
    "\n",
    "print(prediction)"
   ]
  },
  {
   "cell_type": "code",
   "execution_count": 135,
   "metadata": {},
   "outputs": [
    {
     "name": "stdout",
     "output_type": "stream",
     "text": [
      "[[0.49688792]]\n"
     ]
    }
   ],
   "source": [
    "prediction = model.predict([prepare('test_images/USB3.jpg')])\n",
    "\n",
    "print(prediction)"
   ]
  },
  {
   "cell_type": "code",
   "execution_count": 136,
   "metadata": {},
   "outputs": [
    {
     "name": "stdout",
     "output_type": "stream",
     "text": [
      "[[0.74645406]]\n"
     ]
    }
   ],
   "source": [
    "prediction = model.predict([prepare('test_images/mint.jpg')])\n",
    "\n",
    "print(prediction)"
   ]
  },
  {
   "cell_type": "code",
   "execution_count": 137,
   "metadata": {},
   "outputs": [
    {
     "name": "stdout",
     "output_type": "stream",
     "text": [
      "[[0.00016339]]\n"
     ]
    }
   ],
   "source": [
    "prediction = model.predict([prepare('test_images/cool.jpg')])\n",
    "\n",
    "print(prediction)"
   ]
  },
  {
   "cell_type": "code",
   "execution_count": 138,
   "metadata": {},
   "outputs": [
    {
     "name": "stdout",
     "output_type": "stream",
     "text": [
      "[[0.01281198]]\n"
     ]
    }
   ],
   "source": [
    "prediction = model.predict([prepare('test_images/assorted.jpg')])\n",
    "\n",
    "print(prediction)"
   ]
  },
  {
   "cell_type": "code",
   "execution_count": 139,
   "metadata": {},
   "outputs": [
    {
     "name": "stdout",
     "output_type": "stream",
     "text": [
      "[[1.1584837e-07]]\n"
     ]
    }
   ],
   "source": [
    "prediction = model.predict([prepare('test_images/MultiPack.jpg')])\n",
    "\n",
    "print(prediction)"
   ]
  },
  {
   "cell_type": "code",
   "execution_count": 140,
   "metadata": {},
   "outputs": [
    {
     "name": "stdout",
     "output_type": "stream",
     "text": [
      "[[0.99599886]]\n"
     ]
    }
   ],
   "source": [
    "prediction = model.predict([prepare('test_images/assorted2.jpg')])\n",
    "\n",
    "print(prediction)"
   ]
  },
  {
   "cell_type": "code",
   "execution_count": 141,
   "metadata": {},
   "outputs": [
    {
     "name": "stdout",
     "output_type": "stream",
     "text": [
      "[[0.9976179]]\n"
     ]
    }
   ],
   "source": [
    "prediction = model.predict([prepare('test_images/hack5.jpg')])\n",
    "\n",
    "print(prediction)"
   ]
  },
  {
   "cell_type": "code",
   "execution_count": 142,
   "metadata": {},
   "outputs": [
    {
     "name": "stdout",
     "output_type": "stream",
     "text": [
      "[[0.11761668]]\n"
     ]
    }
   ],
   "source": [
    "prediction = model.predict([prepare('test_images/juul5.jpg')])\n",
    "\n",
    "print(prediction)"
   ]
  },
  {
   "cell_type": "code",
   "execution_count": 143,
   "metadata": {},
   "outputs": [
    {
     "name": "stdout",
     "output_type": "stream",
     "text": [
      "[[6.723032e-06]]\n"
     ]
    }
   ],
   "source": [
    "prediction = model.predict([prepare('test_images/juulstack.jpg')])\n",
    "\n",
    "print(prediction)"
   ]
  },
  {
   "cell_type": "code",
   "execution_count": 144,
   "metadata": {},
   "outputs": [
    {
     "name": "stdout",
     "output_type": "stream",
     "text": [
      "[[0.]]\n"
     ]
    }
   ],
   "source": [
    "prediction = model.predict([prepare('test_images/inpackage.jpg')])\n",
    "\n",
    "print(prediction)"
   ]
  },
  {
   "cell_type": "code",
   "execution_count": null,
   "metadata": {},
   "outputs": [],
   "source": []
  },
  {
   "cell_type": "code",
   "execution_count": null,
   "metadata": {},
   "outputs": [],
   "source": []
  }
 ],
 "metadata": {
  "kernelspec": {
   "display_name": "Python 3",
   "language": "python",
   "name": "python3"
  },
  "language_info": {
   "codemirror_mode": {
    "name": "ipython",
    "version": 3
   },
   "file_extension": ".py",
   "mimetype": "text/x-python",
   "name": "python",
   "nbconvert_exporter": "python",
   "pygments_lexer": "ipython3",
   "version": "3.7.4"
  }
 },
 "nbformat": 4,
 "nbformat_minor": 2
}
