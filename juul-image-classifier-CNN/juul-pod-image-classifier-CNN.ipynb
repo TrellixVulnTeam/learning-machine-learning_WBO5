{
 "cells": [
  {
   "cell_type": "code",
   "execution_count": 23,
   "metadata": {},
   "outputs": [
    {
     "name": "stdout",
     "output_type": "stream",
     "text": [
      "Train on 143 samples, validate on 62 samples\n",
      "Epoch 1/20\n",
      "143/143 [==============================] - 7s 46ms/sample - loss: 0.7774 - accuracy: 0.4406 - val_loss: 0.6943 - val_accuracy: 0.4677\n",
      "Epoch 2/20\n",
      "143/143 [==============================] - 6s 41ms/sample - loss: 0.6877 - accuracy: 0.5594 - val_loss: 0.6892 - val_accuracy: 0.4677\n",
      "Epoch 3/20\n",
      "143/143 [==============================] - 6s 43ms/sample - loss: 0.6660 - accuracy: 0.5315 - val_loss: 0.6461 - val_accuracy: 0.7097\n",
      "Epoch 4/20\n",
      "143/143 [==============================] - 7s 48ms/sample - loss: 0.5965 - accuracy: 0.7133 - val_loss: 0.5485 - val_accuracy: 0.6452\n",
      "Epoch 5/20\n",
      "143/143 [==============================] - 6s 45ms/sample - loss: 0.4996 - accuracy: 0.7413 - val_loss: 0.4806 - val_accuracy: 0.7903\n",
      "Epoch 6/20\n",
      "143/143 [==============================] - 6s 43ms/sample - loss: 0.4147 - accuracy: 0.8322 - val_loss: 0.4837 - val_accuracy: 0.6935\n",
      "Epoch 7/20\n",
      "143/143 [==============================] - 6s 45ms/sample - loss: 0.3407 - accuracy: 0.8601 - val_loss: 0.4215 - val_accuracy: 0.8387\n",
      "Epoch 8/20\n",
      "143/143 [==============================] - 6s 45ms/sample - loss: 0.2552 - accuracy: 0.9091 - val_loss: 0.4108 - val_accuracy: 0.7742\n",
      "Epoch 9/20\n",
      "143/143 [==============================] - 6s 44ms/sample - loss: 0.1800 - accuracy: 0.9371 - val_loss: 0.3973 - val_accuracy: 0.7742\n",
      "Epoch 10/20\n",
      "143/143 [==============================] - 7s 50ms/sample - loss: 0.1482 - accuracy: 0.9371 - val_loss: 0.3742 - val_accuracy: 0.8226\n",
      "Epoch 11/20\n",
      "143/143 [==============================] - 7s 48ms/sample - loss: 0.1002 - accuracy: 0.9790 - val_loss: 0.4034 - val_accuracy: 0.7903\n",
      "Epoch 12/20\n",
      "143/143 [==============================] - 6s 44ms/sample - loss: 0.0667 - accuracy: 0.9930 - val_loss: 0.4421 - val_accuracy: 0.7742\n",
      "Epoch 13/20\n",
      "143/143 [==============================] - 6s 45ms/sample - loss: 0.0495 - accuracy: 1.0000 - val_loss: 0.6562 - val_accuracy: 0.7419\n",
      "Epoch 14/20\n",
      "143/143 [==============================] - 7s 48ms/sample - loss: 0.0367 - accuracy: 1.0000 - val_loss: 0.4938 - val_accuracy: 0.7903\n",
      "Epoch 15/20\n",
      "143/143 [==============================] - 7s 46ms/sample - loss: 0.0161 - accuracy: 1.0000 - val_loss: 0.4933 - val_accuracy: 0.7742\n",
      "Epoch 16/20\n",
      "143/143 [==============================] - 7s 46ms/sample - loss: 0.0099 - accuracy: 1.0000 - val_loss: 0.5434 - val_accuracy: 0.7903\n",
      "Epoch 17/20\n",
      "143/143 [==============================] - 6s 45ms/sample - loss: 0.0064 - accuracy: 1.0000 - val_loss: 0.6240 - val_accuracy: 0.7419\n",
      "Epoch 18/20\n",
      "143/143 [==============================] - 6s 45ms/sample - loss: 0.0048 - accuracy: 1.0000 - val_loss: 0.6833 - val_accuracy: 0.7742\n",
      "Epoch 19/20\n",
      "143/143 [==============================] - 7s 49ms/sample - loss: 0.0039 - accuracy: 1.0000 - val_loss: 0.6901 - val_accuracy: 0.7581\n",
      "Epoch 20/20\n",
      "143/143 [==============================] - 7s 49ms/sample - loss: 0.0031 - accuracy: 1.0000 - val_loss: 0.7114 - val_accuracy: 0.7419\n"
     ]
    },
    {
     "data": {
      "text/plain": [
       "<tensorflow.python.keras.callbacks.History at 0x7fdcda66a4d0>"
      ]
     },
     "execution_count": 23,
     "metadata": {},
     "output_type": "execute_result"
    }
   ],
   "source": [
    "import tensorflow as tf\n",
    "from tensorflow.keras.datasets import cifar10\n",
    "from tensorflow.keras.preprocessing.image import ImageDataGenerator\n",
    "from tensorflow.keras.models import Sequential\n",
    "from tensorflow.keras.layers import Dense, Dropout, Activation, Flatten\n",
    "from tensorflow.keras.layers import Conv2D, MaxPooling2D\n",
    "from tensorflow.keras.callbacks import TensorBoard\n",
    "import numpy as np\n",
    "import pickle\n",
    "import time\n",
    "\n",
    "NAME = \"juul-pod-image-classifier-cnn-{}\".format(int(time.time()))\n",
    "\n",
    "tensorboard = TensorBoard(log_dir='logs/{}'.format(NAME))\n",
    "\n",
    "pickle_in = open(\"X.pickle\",\"rb\")\n",
    "X = pickle.load(pickle_in)\n",
    "\n",
    "pickle_in = open(\"y.pickle\",\"rb\")\n",
    "y = pickle.load(pickle_in)\n",
    "\n",
    "X = X/255.0\n",
    "\n",
    "model = Sequential()\n",
    "\n",
    "model.add(Conv2D(256, (3, 3), input_shape=X.shape[1:]))\n",
    "model.add(Activation('relu'))\n",
    "model.add(MaxPooling2D(pool_size=(2, 2)))\n",
    "\n",
    "model.add(Conv2D(256, (3, 3)))\n",
    "model.add(Activation('relu'))\n",
    "model.add(MaxPooling2D(pool_size=(2, 2)))\n",
    "\n",
    "model.add(Flatten())\n",
    "\n",
    "model.add(Dense(64))\n",
    "\n",
    "model.add(Activation('relu'))\n",
    "\n",
    "model.add(Dense(1))\n",
    "model.add(Activation('sigmoid'))\n",
    "\n",
    "model.compile(loss='binary_crossentropy',\n",
    "              optimizer='adam',\n",
    "              metrics=['accuracy'])\n",
    "\n",
    "new_y = np.asarray(y, dtype=np.float32)\n",
    "\n",
    "model.fit(X, new_y, batch_size=15, epochs=20, validation_split=0.3, callbacks=[tensorboard])"
   ]
  },
  {
   "cell_type": "code",
   "execution_count": null,
   "metadata": {},
   "outputs": [],
   "source": []
  },
  {
   "cell_type": "code",
   "execution_count": null,
   "metadata": {},
   "outputs": [],
   "source": []
  }
 ],
 "metadata": {
  "kernelspec": {
   "display_name": "Python 3",
   "language": "python",
   "name": "python3"
  },
  "language_info": {
   "codemirror_mode": {
    "name": "ipython",
    "version": 3
   },
   "file_extension": ".py",
   "mimetype": "text/x-python",
   "name": "python",
   "nbconvert_exporter": "python",
   "pygments_lexer": "ipython3",
   "version": "3.7.4"
  }
 },
 "nbformat": 4,
 "nbformat_minor": 2
}
