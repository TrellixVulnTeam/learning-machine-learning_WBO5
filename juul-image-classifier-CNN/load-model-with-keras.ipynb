{
 "cells": [
  {
   "cell_type": "code",
   "execution_count": 3,
   "metadata": {},
   "outputs": [
    {
     "name": "stdout",
     "output_type": "stream",
     "text": [
      "[[0.2508626]]\n",
      "juulpods\n",
      "[[0.9991308]]\n",
      "juulpods\n",
      "[[0.9999995]]\n",
      "juulpods\n",
      "[[0.9953921]]\n",
      "juulpods\n",
      "[[4.2019434e-05]]\n",
      "juulpods\n"
     ]
    }
   ],
   "source": [
    "import tensorflow as tf\n",
    "import cv2\n",
    "\n",
    "CATEGORIES = [\"juulpods\", \"usb_drives\"]\n",
    "\n",
    "def prepare(filepath):\n",
    "    IMG_SIZE = 70\n",
    "    img_array = cv2.imread(filepath, cv2.IMREAD_GRAYSCALE)\n",
    "    img_array = img_array/255.0\n",
    "    new_array = cv2.resize(img_array, (IMG_SIZE, IMG_SIZE))\n",
    "    return new_array.reshape(-1, IMG_SIZE, IMG_SIZE, 1)\n",
    "\n",
    "model = tf.keras.models.load_model('64x3-CNN.model')\n",
    "\n",
    "prediction1 = model.predict([prepare('Juul.jpg')])\n",
    "prediction2 = model.predict([prepare('USB.jpg')])\n",
    "prediction3 = model.predict([prepare('USB2.jpg')])\n",
    "prediction4 = model.predict([prepare('USB3.jpg')])\n",
    "prediction5 = model.predict([prepare('Juul2.jpg')])\n",
    "\n",
    "\n",
    "print(prediction1)\n",
    "print(CATEGORIES[int(prediction1[0][0])])\n",
    "print(prediction2)\n",
    "print(CATEGORIES[int(prediction2[0][0])])\n",
    "print(prediction3)\n",
    "print(CATEGORIES[int(prediction3[0][0])])\n",
    "print(prediction4)\n",
    "print(CATEGORIES[int(prediction4[0][0])])\n",
    "print(prediction5)\n",
    "print(CATEGORIES[int(prediction5[0][0])])"
   ]
  },
  {
   "cell_type": "code",
   "execution_count": 8,
   "metadata": {},
   "outputs": [
    {
     "name": "stdout",
     "output_type": "stream",
     "text": [
      "[[0.8207943]]\n",
      "[[0.9649029]]\n",
      "[[0.9999213]]\n",
      "[[0.99669576]]\n",
      "[[0.0005392]]\n"
     ]
    }
   ],
   "source": [
    "prediction1 = model.predict([prepare('Juul.jpg')])\n",
    "prediction2 = model.predict([prepare('USB.jpg')])\n",
    "prediction3 = model.predict([prepare('USB2.jpg')])\n",
    "prediction4 = model.predict([prepare('USB3.jpg')])\n",
    "prediction5 = model.predict([prepare('Juul2.jpg')])\n",
    "\n",
    "\n",
    "print(prediction1)\n",
    "print(prediction2)\n",
    "print(prediction3)\n",
    "print(prediction4)\n",
    "print(prediction5)"
   ]
  },
  {
   "cell_type": "code",
   "execution_count": 11,
   "metadata": {},
   "outputs": [
    {
     "name": "stdout",
     "output_type": "stream",
     "text": [
      "[[0.99954504]]\n"
     ]
    }
   ],
   "source": [
    "prediction5 = model.predict([prepare('trevorjuul2.jpg')])\n",
    "\n",
    "\n",
    "print(prediction5)"
   ]
  },
  {
   "cell_type": "code",
   "execution_count": null,
   "metadata": {},
   "outputs": [],
   "source": [
    "\n"
   ]
  },
  {
   "cell_type": "code",
   "execution_count": null,
   "metadata": {},
   "outputs": [],
   "source": []
  }
 ],
 "metadata": {
  "kernelspec": {
   "display_name": "Python 3",
   "language": "python",
   "name": "python3"
  },
  "language_info": {
   "codemirror_mode": {
    "name": "ipython",
    "version": 3
   },
   "file_extension": ".py",
   "mimetype": "text/x-python",
   "name": "python",
   "nbconvert_exporter": "python",
   "pygments_lexer": "ipython3",
   "version": "3.7.4"
  }
 },
 "nbformat": 4,
 "nbformat_minor": 2
}
